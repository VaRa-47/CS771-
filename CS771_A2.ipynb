{
 "cells": [
  {
   "cell_type": "code",
   "execution_count": 121,
   "id": "8db82d45",
   "metadata": {},
   "outputs": [],
   "source": [
    "import pandas as pd\n",
    "import numpy as np\n",
    "import glob\n",
    "import cv2\n",
    "import matplotlib.pyplot as plt\n",
    "import os\n",
    "from PIL import Image\n",
    "import tensorflow as tf\n",
    "from tensorflow import keras\n",
    "from sklearn.model_selection import train_test_split\n",
    "import pickle"
   ]
  },
  {
   "cell_type": "code",
   "execution_count": 122,
   "id": "bf8e26d5",
   "metadata": {},
   "outputs": [],
   "source": [
    "png_files = []\n",
    "#folder_path = r\"C:\\Users\\sacha\\OneDrive\\Desktop\\python\\cs771\\assn2\\train\"\n",
    "for i in range(0, 2000):\n",
    "    file_path = \"C:\\\\Users\\\\sacha\\\\OneDrive\\\\Desktop\\\\python\\\\cs771\\\\assn2\\\\train\\\\{}.png\".format(i)\n",
    "    png_files.append(file_path)\n"
   ]
  },
  {
   "cell_type": "code",
   "execution_count": 123,
   "id": "eb975a60",
   "metadata": {},
   "outputs": [
    {
     "data": {
      "text/plain": [
       "'C:\\\\Users\\\\sacha\\\\OneDrive\\\\Desktop\\\\python\\\\cs771\\\\assn2\\\\train\\\\4.png'"
      ]
     },
     "execution_count": 123,
     "metadata": {},
     "output_type": "execute_result"
    }
   ],
   "source": [
    "png_files[4]"
   ]
  },
  {
   "cell_type": "code",
   "execution_count": 126,
   "id": "2d99ef5f",
   "metadata": {},
   "outputs": [],
   "source": [
    "cropped_train = []\n",
    "\n",
    "def cropper(i):\n",
    "    image = Image.open(png_files[i])\n",
    "    width, height = image.size\n",
    "\n",
    "    crop_region = (width - 140, 10, width - 50, height)\n",
    "    ci = image.crop(crop_region)\n",
    "    ci = np.asarray(ci)\n",
    "    \n",
    "    _,img = cv2.threshold(ci,165,255,cv2.THRESH_BINARY)\n",
    "    img = cv2.cvtColor(img, cv2.COLOR_BGR2GRAY)\n",
    "    _,img = cv2.threshold(img,254,255,cv2.THRESH_BINARY)\n",
    "    kernel = np.ones((5,5), np.uint8)\n",
    "    img_erode = cv2.dilate(img, kernel)\n",
    "    cropped_train.append(img_erode)"
   ]
  },
  {
   "cell_type": "code",
   "execution_count": 127,
   "id": "373314d2",
   "metadata": {},
   "outputs": [],
   "source": [
    "for i in range(2000):\n",
    "    cropper(i)\n",
    "x_train = np.array(cropped_train)\n",
    "file = open(r\"C:\\Users\\sacha\\OneDrive\\Desktop\\python\\cs771\\assn2\\train\\labels.txt\", \"r\")\n",
    "temp = file.read().splitlines()\n",
    "y_train = np.array(temp)"
   ]
  },
  {
   "cell_type": "code",
   "execution_count": 128,
   "id": "9bbffc90",
   "metadata": {},
   "outputs": [],
   "source": [
    "Y_train =[]\n",
    "for i in range(2000):\n",
    "    if y_train[i] == 'ODD':\n",
    "        Y_train.append(1)\n",
    "    else:\n",
    "        Y_train.append(0)\n",
    "Y_train = np.array(Y_train)"
   ]
  },
  {
   "cell_type": "code",
   "execution_count": 129,
   "id": "5ab3ad34",
   "metadata": {},
   "outputs": [],
   "source": [
    "X_trn, x_tst,Y_trn, y_tst = train_test_split(x_train,Y_train,test_size=0.25)"
   ]
  },
  {
   "cell_type": "code",
   "execution_count": 130,
   "id": "24e20bfa",
   "metadata": {},
   "outputs": [
    {
     "name": "stdout",
     "output_type": "stream",
     "text": [
      "Model: \"sequential_1\"\n",
      "_________________________________________________________________\n",
      " Layer (type)                Output Shape              Param #   \n",
      "=================================================================\n",
      " conv2d_4 (Conv2D)           (None, 88, 88, 2)         20        \n",
      "                                                                 \n",
      " max_pooling2d_4 (MaxPoolin  (None, 44, 44, 2)         0         \n",
      " g2D)                                                            \n",
      "                                                                 \n",
      " conv2d_5 (Conv2D)           (None, 42, 42, 4)         76        \n",
      "                                                                 \n",
      " max_pooling2d_5 (MaxPoolin  (None, 21, 21, 4)         0         \n",
      " g2D)                                                            \n",
      "                                                                 \n",
      " conv2d_6 (Conv2D)           (None, 19, 19, 8)         296       \n",
      "                                                                 \n",
      " max_pooling2d_6 (MaxPoolin  (None, 9, 9, 8)           0         \n",
      " g2D)                                                            \n",
      "                                                                 \n",
      " conv2d_7 (Conv2D)           (None, 7, 7, 8)           584       \n",
      "                                                                 \n",
      " max_pooling2d_7 (MaxPoolin  (None, 3, 3, 8)           0         \n",
      " g2D)                                                            \n",
      "                                                                 \n",
      " flatten_1 (Flatten)         (None, 72)                0         \n",
      "                                                                 \n",
      " dense_2 (Dense)             (None, 4)                 292       \n",
      "                                                                 \n",
      " dense_3 (Dense)             (None, 1)                 5         \n",
      "                                                                 \n",
      "=================================================================\n",
      "Total params: 1273 (4.97 KB)\n",
      "Trainable params: 1273 (4.97 KB)\n",
      "Non-trainable params: 0 (0.00 Byte)\n",
      "_________________________________________________________________\n",
      "Epoch 1/30\n",
      "47/47 [==============================] - 2s 20ms/step - loss: 0.6383 - accuracy: 0.6860\n",
      "Epoch 2/30\n",
      "47/47 [==============================] - 1s 18ms/step - loss: 0.5198 - accuracy: 0.7953\n",
      "Epoch 3/30\n",
      "47/47 [==============================] - 1s 18ms/step - loss: 0.4375 - accuracy: 0.8053\n",
      "Epoch 4/30\n",
      "47/47 [==============================] - 1s 19ms/step - loss: 0.3361 - accuracy: 0.8547\n",
      "Epoch 5/30\n",
      "47/47 [==============================] - 1s 18ms/step - loss: 0.2538 - accuracy: 0.8973\n",
      "Epoch 6/30\n",
      "47/47 [==============================] - 1s 18ms/step - loss: 0.1917 - accuracy: 0.9327\n",
      "Epoch 7/30\n",
      "47/47 [==============================] - 1s 18ms/step - loss: 0.1380 - accuracy: 0.9587\n",
      "Epoch 8/30\n",
      "47/47 [==============================] - 1s 19ms/step - loss: 0.0955 - accuracy: 0.9747\n",
      "Epoch 9/30\n",
      "47/47 [==============================] - 1s 18ms/step - loss: 0.0688 - accuracy: 0.9887\n",
      "Epoch 10/30\n",
      "47/47 [==============================] - 1s 18ms/step - loss: 0.0530 - accuracy: 0.9873\n",
      "Epoch 11/30\n",
      "47/47 [==============================] - 1s 18ms/step - loss: 0.0372 - accuracy: 0.9940\n",
      "Epoch 12/30\n",
      "47/47 [==============================] - 1s 18ms/step - loss: 0.0260 - accuracy: 0.9973\n",
      "Epoch 13/30\n",
      "47/47 [==============================] - 1s 18ms/step - loss: 0.0239 - accuracy: 0.9967\n",
      "Epoch 14/30\n",
      "47/47 [==============================] - 1s 18ms/step - loss: 0.0168 - accuracy: 0.9973\n",
      "Epoch 15/30\n",
      "47/47 [==============================] - 1s 18ms/step - loss: 0.0118 - accuracy: 0.9987\n",
      "Epoch 16/30\n",
      "47/47 [==============================] - 1s 18ms/step - loss: 0.0095 - accuracy: 0.9993\n",
      "Epoch 17/30\n",
      "47/47 [==============================] - 1s 18ms/step - loss: 0.0069 - accuracy: 1.0000\n",
      "Epoch 18/30\n",
      "47/47 [==============================] - 1s 18ms/step - loss: 0.0077 - accuracy: 0.9987\n",
      "Epoch 19/30\n",
      "47/47 [==============================] - 1s 19ms/step - loss: 0.0041 - accuracy: 1.0000\n",
      "Epoch 20/30\n",
      "47/47 [==============================] - 1s 18ms/step - loss: 0.0035 - accuracy: 1.0000\n",
      "Epoch 21/30\n",
      "47/47 [==============================] - 1s 20ms/step - loss: 0.0033 - accuracy: 1.0000\n",
      "Epoch 22/30\n",
      "47/47 [==============================] - 1s 18ms/step - loss: 0.0029 - accuracy: 1.0000\n",
      "Epoch 23/30\n",
      "47/47 [==============================] - 1s 22ms/step - loss: 0.0023 - accuracy: 1.0000\n",
      "Epoch 24/30\n",
      "47/47 [==============================] - 1s 20ms/step - loss: 0.0019 - accuracy: 1.0000\n",
      "Epoch 25/30\n",
      "47/47 [==============================] - 1s 19ms/step - loss: 0.0017 - accuracy: 1.0000\n",
      "Epoch 26/30\n",
      "47/47 [==============================] - 1s 18ms/step - loss: 0.0024 - accuracy: 1.0000\n",
      "Epoch 27/30\n",
      "47/47 [==============================] - 1s 22ms/step - loss: 0.0020 - accuracy: 1.0000\n",
      "Epoch 28/30\n",
      "47/47 [==============================] - 1s 20ms/step - loss: 0.0132 - accuracy: 0.9960\n",
      "Epoch 29/30\n",
      "47/47 [==============================] - 1s 22ms/step - loss: 0.0021 - accuracy: 1.0000\n",
      "Epoch 30/30\n",
      "47/47 [==============================] - 1s 21ms/step - loss: 0.0012 - accuracy: 1.0000\n"
     ]
    }
   ],
   "source": [
    "X_trn = X_trn / 255.0\n",
    "\n",
    "model = tf.keras.models.Sequential([\n",
    "    tf.keras.layers.Conv2D(2, kernel_size=(3, 3), activation='relu', input_shape=(90, 90, 1)),\n",
    "    tf.keras.layers.MaxPooling2D(pool_size=(2, 2)),\n",
    "    tf.keras.layers.Conv2D(4, kernel_size=(3, 3), activation='relu'),\n",
    "    tf.keras.layers.MaxPooling2D(pool_size=(2, 2)),\n",
    "    tf.keras.layers.Conv2D(8, kernel_size=(3, 3), activation='relu'),\n",
    "    tf.keras.layers.MaxPooling2D(pool_size=(2, 2)),\n",
    "    tf.keras.layers.Conv2D(8, kernel_size=(3, 3), activation='relu'),\n",
    "    tf.keras.layers.MaxPooling2D(pool_size=(2, 2)),\n",
    "    tf.keras.layers.Flatten(),\n",
    "    tf.keras.layers.Dense(4, activation='relu'),\n",
    "    tf.keras.layers.Dense(1, activation='sigmoid')\n",
    "])\n",
    "\n",
    "model.compile(optimizer='adam', loss='binary_crossentropy', metrics=['accuracy'])\n",
    "model.summary()\n",
    "model.fit(X_trn, Y_trn, epochs=30, batch_size=32)\n",
    "# model.save_weights('model.h5')\n",
    "weights_file = \"final.pkl\"\n",
    "with open(weights_file, \"wb\") as f:\n",
    "    pickle.dump(model, f)\n"
   ]
  },
  {
   "cell_type": "code",
   "execution_count": 131,
   "id": "9ee143de",
   "metadata": {},
   "outputs": [
    {
     "name": "stdout",
     "output_type": "stream",
     "text": [
      "16/16 [==============================] - 0s 7ms/step\n"
     ]
    },
    {
     "data": {
      "text/plain": [
       "100.0"
      ]
     },
     "execution_count": 131,
     "metadata": {},
     "output_type": "execute_result"
    }
   ],
   "source": [
    "predictions = model.predict(x_tst)\n",
    "count = 0\n",
    "for i in range(500):\n",
    "    if predictions[i] == y_tst[i]:\n",
    "        count = count + 1\n",
    "count/5.0"
   ]
  },
  {
   "cell_type": "code",
   "execution_count": null,
   "id": "bf3d96d6",
   "metadata": {},
   "outputs": [],
   "source": []
  }
 ],
 "metadata": {
  "kernelspec": {
   "display_name": "Python 3 (ipykernel)",
   "language": "python",
   "name": "python3"
  },
  "language_info": {
   "codemirror_mode": {
    "name": "ipython",
    "version": 3
   },
   "file_extension": ".py",
   "mimetype": "text/x-python",
   "name": "python",
   "nbconvert_exporter": "python",
   "pygments_lexer": "ipython3",
   "version": "3.9.12"
  }
 },
 "nbformat": 4,
 "nbformat_minor": 5
}
